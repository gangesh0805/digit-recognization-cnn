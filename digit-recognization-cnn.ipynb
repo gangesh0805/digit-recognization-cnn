{
 "cells": [
  {
   "cell_type": "code",
   "execution_count": 5,
   "metadata": {
    "_cell_guid": "b1076dfc-b9ad-4769-8c92-a6c4dae69d19",
    "_uuid": "8f2839f25d086af736a60e9eeb907d3b93b6e0e5",
    "execution": {
     "iopub.execute_input": "2023-09-18T16:59:03.617338Z",
     "iopub.status.busy": "2023-09-18T16:59:03.617025Z",
     "iopub.status.idle": "2023-09-18T16:59:03.976302Z",
     "shell.execute_reply": "2023-09-18T16:59:03.975317Z",
     "shell.execute_reply.started": "2023-09-18T16:59:03.617310Z"
    }
   },
   "outputs": [],
   "source": [
    "import numpy as np # linear algebra\n",
    "import pandas as pd # data processing, CSV file I/O (e.g. pd.read_csv)"
   ]
  },
  {
   "cell_type": "code",
   "execution_count": 6,
   "metadata": {
    "execution": {
     "iopub.execute_input": "2023-09-18T16:59:06.973973Z",
     "iopub.status.busy": "2023-09-18T16:59:06.973397Z",
     "iopub.status.idle": "2023-09-18T16:59:16.221547Z",
     "shell.execute_reply": "2023-09-18T16:59:16.220514Z",
     "shell.execute_reply.started": "2023-09-18T16:59:06.973927Z"
    }
   },
   "outputs": [],
   "source": [
    "import matplotlib.pyplot as plt\n",
    "%matplotlib inline\n",
    "import seaborn as sns\n",
    "\n",
    "from sklearn.model_selection import train_test_split\n",
    "\n",
    "\n",
    "import tensorflow as tf\n",
    "from tensorflow import keras\n",
    "from tensorflow.keras import layers"
   ]
  },
  {
   "cell_type": "markdown",
   "metadata": {},
   "source": [
    "# Loading Data"
   ]
  },
  {
   "cell_type": "code",
   "execution_count": 7,
   "metadata": {
    "execution": {
     "iopub.execute_input": "2023-09-18T16:59:22.219572Z",
     "iopub.status.busy": "2023-09-18T16:59:22.218896Z",
     "iopub.status.idle": "2023-09-18T16:59:26.307498Z",
     "shell.execute_reply": "2023-09-18T16:59:26.306519Z",
     "shell.execute_reply.started": "2023-09-18T16:59:22.219539Z"
    }
   },
   "outputs": [
    {
     "data": {
      "text/plain": [
       "(42000, 785)"
      ]
     },
     "execution_count": 7,
     "metadata": {},
     "output_type": "execute_result"
    }
   ],
   "source": [
    "train_data = pd.read_csv(\"train.csv\")\n",
    "train_data.shape"
   ]
  },
  {
   "cell_type": "code",
   "execution_count": 8,
   "metadata": {
    "execution": {
     "iopub.execute_input": "2023-09-18T16:59:26.310446Z",
     "iopub.status.busy": "2023-09-18T16:59:26.309456Z",
     "iopub.status.idle": "2023-09-18T16:59:28.457550Z",
     "shell.execute_reply": "2023-09-18T16:59:28.456556Z",
     "shell.execute_reply.started": "2023-09-18T16:59:26.310409Z"
    }
   },
   "outputs": [
    {
     "data": {
      "text/plain": [
       "(28000, 784)"
      ]
     },
     "execution_count": 8,
     "metadata": {},
     "output_type": "execute_result"
    }
   ],
   "source": [
    "test_data = pd.read_csv(\"test.csv\")\n",
    "test_data.shape"
   ]
  },
  {
   "cell_type": "code",
   "execution_count": 9,
   "metadata": {
    "execution": {
     "iopub.execute_input": "2023-09-18T16:59:28.459674Z",
     "iopub.status.busy": "2023-09-18T16:59:28.459269Z",
     "iopub.status.idle": "2023-09-18T16:59:28.487486Z",
     "shell.execute_reply": "2023-09-18T16:59:28.486595Z",
     "shell.execute_reply.started": "2023-09-18T16:59:28.459641Z"
    }
   },
   "outputs": [
    {
     "data": {
      "text/html": [
       "<div>\n",
       "<style scoped>\n",
       "    .dataframe tbody tr th:only-of-type {\n",
       "        vertical-align: middle;\n",
       "    }\n",
       "\n",
       "    .dataframe tbody tr th {\n",
       "        vertical-align: top;\n",
       "    }\n",
       "\n",
       "    .dataframe thead th {\n",
       "        text-align: right;\n",
       "    }\n",
       "</style>\n",
       "<table border=\"1\" class=\"dataframe\">\n",
       "  <thead>\n",
       "    <tr style=\"text-align: right;\">\n",
       "      <th></th>\n",
       "      <th>label</th>\n",
       "      <th>pixel0</th>\n",
       "      <th>pixel1</th>\n",
       "      <th>pixel2</th>\n",
       "      <th>pixel3</th>\n",
       "      <th>pixel4</th>\n",
       "      <th>pixel5</th>\n",
       "      <th>pixel6</th>\n",
       "      <th>pixel7</th>\n",
       "      <th>pixel8</th>\n",
       "      <th>...</th>\n",
       "      <th>pixel774</th>\n",
       "      <th>pixel775</th>\n",
       "      <th>pixel776</th>\n",
       "      <th>pixel777</th>\n",
       "      <th>pixel778</th>\n",
       "      <th>pixel779</th>\n",
       "      <th>pixel780</th>\n",
       "      <th>pixel781</th>\n",
       "      <th>pixel782</th>\n",
       "      <th>pixel783</th>\n",
       "    </tr>\n",
       "  </thead>\n",
       "  <tbody>\n",
       "    <tr>\n",
       "      <th>0</th>\n",
       "      <td>1</td>\n",
       "      <td>0</td>\n",
       "      <td>0</td>\n",
       "      <td>0</td>\n",
       "      <td>0</td>\n",
       "      <td>0</td>\n",
       "      <td>0</td>\n",
       "      <td>0</td>\n",
       "      <td>0</td>\n",
       "      <td>0</td>\n",
       "      <td>...</td>\n",
       "      <td>0</td>\n",
       "      <td>0</td>\n",
       "      <td>0</td>\n",
       "      <td>0</td>\n",
       "      <td>0</td>\n",
       "      <td>0</td>\n",
       "      <td>0</td>\n",
       "      <td>0</td>\n",
       "      <td>0</td>\n",
       "      <td>0</td>\n",
       "    </tr>\n",
       "    <tr>\n",
       "      <th>1</th>\n",
       "      <td>0</td>\n",
       "      <td>0</td>\n",
       "      <td>0</td>\n",
       "      <td>0</td>\n",
       "      <td>0</td>\n",
       "      <td>0</td>\n",
       "      <td>0</td>\n",
       "      <td>0</td>\n",
       "      <td>0</td>\n",
       "      <td>0</td>\n",
       "      <td>...</td>\n",
       "      <td>0</td>\n",
       "      <td>0</td>\n",
       "      <td>0</td>\n",
       "      <td>0</td>\n",
       "      <td>0</td>\n",
       "      <td>0</td>\n",
       "      <td>0</td>\n",
       "      <td>0</td>\n",
       "      <td>0</td>\n",
       "      <td>0</td>\n",
       "    </tr>\n",
       "    <tr>\n",
       "      <th>2</th>\n",
       "      <td>1</td>\n",
       "      <td>0</td>\n",
       "      <td>0</td>\n",
       "      <td>0</td>\n",
       "      <td>0</td>\n",
       "      <td>0</td>\n",
       "      <td>0</td>\n",
       "      <td>0</td>\n",
       "      <td>0</td>\n",
       "      <td>0</td>\n",
       "      <td>...</td>\n",
       "      <td>0</td>\n",
       "      <td>0</td>\n",
       "      <td>0</td>\n",
       "      <td>0</td>\n",
       "      <td>0</td>\n",
       "      <td>0</td>\n",
       "      <td>0</td>\n",
       "      <td>0</td>\n",
       "      <td>0</td>\n",
       "      <td>0</td>\n",
       "    </tr>\n",
       "    <tr>\n",
       "      <th>3</th>\n",
       "      <td>4</td>\n",
       "      <td>0</td>\n",
       "      <td>0</td>\n",
       "      <td>0</td>\n",
       "      <td>0</td>\n",
       "      <td>0</td>\n",
       "      <td>0</td>\n",
       "      <td>0</td>\n",
       "      <td>0</td>\n",
       "      <td>0</td>\n",
       "      <td>...</td>\n",
       "      <td>0</td>\n",
       "      <td>0</td>\n",
       "      <td>0</td>\n",
       "      <td>0</td>\n",
       "      <td>0</td>\n",
       "      <td>0</td>\n",
       "      <td>0</td>\n",
       "      <td>0</td>\n",
       "      <td>0</td>\n",
       "      <td>0</td>\n",
       "    </tr>\n",
       "    <tr>\n",
       "      <th>4</th>\n",
       "      <td>0</td>\n",
       "      <td>0</td>\n",
       "      <td>0</td>\n",
       "      <td>0</td>\n",
       "      <td>0</td>\n",
       "      <td>0</td>\n",
       "      <td>0</td>\n",
       "      <td>0</td>\n",
       "      <td>0</td>\n",
       "      <td>0</td>\n",
       "      <td>...</td>\n",
       "      <td>0</td>\n",
       "      <td>0</td>\n",
       "      <td>0</td>\n",
       "      <td>0</td>\n",
       "      <td>0</td>\n",
       "      <td>0</td>\n",
       "      <td>0</td>\n",
       "      <td>0</td>\n",
       "      <td>0</td>\n",
       "      <td>0</td>\n",
       "    </tr>\n",
       "  </tbody>\n",
       "</table>\n",
       "<p>5 rows × 785 columns</p>\n",
       "</div>"
      ],
      "text/plain": [
       "   label  pixel0  pixel1  pixel2  pixel3  pixel4  pixel5  pixel6  pixel7  \\\n",
       "0      1       0       0       0       0       0       0       0       0   \n",
       "1      0       0       0       0       0       0       0       0       0   \n",
       "2      1       0       0       0       0       0       0       0       0   \n",
       "3      4       0       0       0       0       0       0       0       0   \n",
       "4      0       0       0       0       0       0       0       0       0   \n",
       "\n",
       "   pixel8  ...  pixel774  pixel775  pixel776  pixel777  pixel778  pixel779  \\\n",
       "0       0  ...         0         0         0         0         0         0   \n",
       "1       0  ...         0         0         0         0         0         0   \n",
       "2       0  ...         0         0         0         0         0         0   \n",
       "3       0  ...         0         0         0         0         0         0   \n",
       "4       0  ...         0         0         0         0         0         0   \n",
       "\n",
       "   pixel780  pixel781  pixel782  pixel783  \n",
       "0         0         0         0         0  \n",
       "1         0         0         0         0  \n",
       "2         0         0         0         0  \n",
       "3         0         0         0         0  \n",
       "4         0         0         0         0  \n",
       "\n",
       "[5 rows x 785 columns]"
      ]
     },
     "execution_count": 9,
     "metadata": {},
     "output_type": "execute_result"
    }
   ],
   "source": [
    "train_data.head()"
   ]
  },
  {
   "cell_type": "code",
   "execution_count": 10,
   "metadata": {
    "execution": {
     "iopub.execute_input": "2023-09-18T16:59:28.489918Z",
     "iopub.status.busy": "2023-09-18T16:59:28.489477Z",
     "iopub.status.idle": "2023-09-18T16:59:28.507817Z",
     "shell.execute_reply": "2023-09-18T16:59:28.506712Z",
     "shell.execute_reply.started": "2023-09-18T16:59:28.489884Z"
    }
   },
   "outputs": [
    {
     "data": {
      "text/html": [
       "<div>\n",
       "<style scoped>\n",
       "    .dataframe tbody tr th:only-of-type {\n",
       "        vertical-align: middle;\n",
       "    }\n",
       "\n",
       "    .dataframe tbody tr th {\n",
       "        vertical-align: top;\n",
       "    }\n",
       "\n",
       "    .dataframe thead th {\n",
       "        text-align: right;\n",
       "    }\n",
       "</style>\n",
       "<table border=\"1\" class=\"dataframe\">\n",
       "  <thead>\n",
       "    <tr style=\"text-align: right;\">\n",
       "      <th></th>\n",
       "      <th>pixel0</th>\n",
       "      <th>pixel1</th>\n",
       "      <th>pixel2</th>\n",
       "      <th>pixel3</th>\n",
       "      <th>pixel4</th>\n",
       "      <th>pixel5</th>\n",
       "      <th>pixel6</th>\n",
       "      <th>pixel7</th>\n",
       "      <th>pixel8</th>\n",
       "      <th>pixel9</th>\n",
       "      <th>...</th>\n",
       "      <th>pixel774</th>\n",
       "      <th>pixel775</th>\n",
       "      <th>pixel776</th>\n",
       "      <th>pixel777</th>\n",
       "      <th>pixel778</th>\n",
       "      <th>pixel779</th>\n",
       "      <th>pixel780</th>\n",
       "      <th>pixel781</th>\n",
       "      <th>pixel782</th>\n",
       "      <th>pixel783</th>\n",
       "    </tr>\n",
       "  </thead>\n",
       "  <tbody>\n",
       "    <tr>\n",
       "      <th>0</th>\n",
       "      <td>0</td>\n",
       "      <td>0</td>\n",
       "      <td>0</td>\n",
       "      <td>0</td>\n",
       "      <td>0</td>\n",
       "      <td>0</td>\n",
       "      <td>0</td>\n",
       "      <td>0</td>\n",
       "      <td>0</td>\n",
       "      <td>0</td>\n",
       "      <td>...</td>\n",
       "      <td>0</td>\n",
       "      <td>0</td>\n",
       "      <td>0</td>\n",
       "      <td>0</td>\n",
       "      <td>0</td>\n",
       "      <td>0</td>\n",
       "      <td>0</td>\n",
       "      <td>0</td>\n",
       "      <td>0</td>\n",
       "      <td>0</td>\n",
       "    </tr>\n",
       "    <tr>\n",
       "      <th>1</th>\n",
       "      <td>0</td>\n",
       "      <td>0</td>\n",
       "      <td>0</td>\n",
       "      <td>0</td>\n",
       "      <td>0</td>\n",
       "      <td>0</td>\n",
       "      <td>0</td>\n",
       "      <td>0</td>\n",
       "      <td>0</td>\n",
       "      <td>0</td>\n",
       "      <td>...</td>\n",
       "      <td>0</td>\n",
       "      <td>0</td>\n",
       "      <td>0</td>\n",
       "      <td>0</td>\n",
       "      <td>0</td>\n",
       "      <td>0</td>\n",
       "      <td>0</td>\n",
       "      <td>0</td>\n",
       "      <td>0</td>\n",
       "      <td>0</td>\n",
       "    </tr>\n",
       "    <tr>\n",
       "      <th>2</th>\n",
       "      <td>0</td>\n",
       "      <td>0</td>\n",
       "      <td>0</td>\n",
       "      <td>0</td>\n",
       "      <td>0</td>\n",
       "      <td>0</td>\n",
       "      <td>0</td>\n",
       "      <td>0</td>\n",
       "      <td>0</td>\n",
       "      <td>0</td>\n",
       "      <td>...</td>\n",
       "      <td>0</td>\n",
       "      <td>0</td>\n",
       "      <td>0</td>\n",
       "      <td>0</td>\n",
       "      <td>0</td>\n",
       "      <td>0</td>\n",
       "      <td>0</td>\n",
       "      <td>0</td>\n",
       "      <td>0</td>\n",
       "      <td>0</td>\n",
       "    </tr>\n",
       "    <tr>\n",
       "      <th>3</th>\n",
       "      <td>0</td>\n",
       "      <td>0</td>\n",
       "      <td>0</td>\n",
       "      <td>0</td>\n",
       "      <td>0</td>\n",
       "      <td>0</td>\n",
       "      <td>0</td>\n",
       "      <td>0</td>\n",
       "      <td>0</td>\n",
       "      <td>0</td>\n",
       "      <td>...</td>\n",
       "      <td>0</td>\n",
       "      <td>0</td>\n",
       "      <td>0</td>\n",
       "      <td>0</td>\n",
       "      <td>0</td>\n",
       "      <td>0</td>\n",
       "      <td>0</td>\n",
       "      <td>0</td>\n",
       "      <td>0</td>\n",
       "      <td>0</td>\n",
       "    </tr>\n",
       "    <tr>\n",
       "      <th>4</th>\n",
       "      <td>0</td>\n",
       "      <td>0</td>\n",
       "      <td>0</td>\n",
       "      <td>0</td>\n",
       "      <td>0</td>\n",
       "      <td>0</td>\n",
       "      <td>0</td>\n",
       "      <td>0</td>\n",
       "      <td>0</td>\n",
       "      <td>0</td>\n",
       "      <td>...</td>\n",
       "      <td>0</td>\n",
       "      <td>0</td>\n",
       "      <td>0</td>\n",
       "      <td>0</td>\n",
       "      <td>0</td>\n",
       "      <td>0</td>\n",
       "      <td>0</td>\n",
       "      <td>0</td>\n",
       "      <td>0</td>\n",
       "      <td>0</td>\n",
       "    </tr>\n",
       "  </tbody>\n",
       "</table>\n",
       "<p>5 rows × 784 columns</p>\n",
       "</div>"
      ],
      "text/plain": [
       "   pixel0  pixel1  pixel2  pixel3  pixel4  pixel5  pixel6  pixel7  pixel8  \\\n",
       "0       0       0       0       0       0       0       0       0       0   \n",
       "1       0       0       0       0       0       0       0       0       0   \n",
       "2       0       0       0       0       0       0       0       0       0   \n",
       "3       0       0       0       0       0       0       0       0       0   \n",
       "4       0       0       0       0       0       0       0       0       0   \n",
       "\n",
       "   pixel9  ...  pixel774  pixel775  pixel776  pixel777  pixel778  pixel779  \\\n",
       "0       0  ...         0         0         0         0         0         0   \n",
       "1       0  ...         0         0         0         0         0         0   \n",
       "2       0  ...         0         0         0         0         0         0   \n",
       "3       0  ...         0         0         0         0         0         0   \n",
       "4       0  ...         0         0         0         0         0         0   \n",
       "\n",
       "   pixel780  pixel781  pixel782  pixel783  \n",
       "0         0         0         0         0  \n",
       "1         0         0         0         0  \n",
       "2         0         0         0         0  \n",
       "3         0         0         0         0  \n",
       "4         0         0         0         0  \n",
       "\n",
       "[5 rows x 784 columns]"
      ]
     },
     "execution_count": 10,
     "metadata": {},
     "output_type": "execute_result"
    }
   ],
   "source": [
    "test_data.head()"
   ]
  },
  {
   "cell_type": "code",
   "execution_count": 11,
   "metadata": {
    "execution": {
     "iopub.execute_input": "2023-09-18T16:59:29.061159Z",
     "iopub.status.busy": "2023-09-18T16:59:29.060419Z",
     "iopub.status.idle": "2023-09-18T16:59:29.093815Z",
     "shell.execute_reply": "2023-09-18T16:59:29.092744Z",
     "shell.execute_reply.started": "2023-09-18T16:59:29.061120Z"
    }
   },
   "outputs": [
    {
     "data": {
      "text/plain": [
       "0"
      ]
     },
     "execution_count": 11,
     "metadata": {},
     "output_type": "execute_result"
    }
   ],
   "source": [
    "train_data.isnull().sum().sum()"
   ]
  },
  {
   "cell_type": "code",
   "execution_count": 12,
   "metadata": {
    "execution": {
     "iopub.execute_input": "2023-09-18T16:59:31.711732Z",
     "iopub.status.busy": "2023-09-18T16:59:31.711358Z",
     "iopub.status.idle": "2023-09-18T16:59:32.225502Z",
     "shell.execute_reply": "2023-09-18T16:59:32.224549Z",
     "shell.execute_reply.started": "2023-09-18T16:59:31.711702Z"
    }
   },
   "outputs": [
    {
     "data": {
      "text/plain": [
       "<Axes: xlabel='label', ylabel='count'>"
      ]
     },
     "execution_count": 12,
     "metadata": {},
     "output_type": "execute_result"
    },
    {
     "data": {
      "image/png": "[encoded data removed]",
      "text/plain": [
       "<Figure size 640x480 with 1 Axes>"
      ]
     },
     "metadata": {},
     "output_type": "display_data"
    }
   ],
   "source": [
    "plt.figure()\n",
    "sns.countplot(x=train_data.label)"
   ]
  },
  {
   "cell_type": "markdown",
   "metadata": {},
   "source": [
    "# Reshape the data\n",
    "reshape to 28x28 to apply CNN"
   ]
  },
  {
   "cell_type": "code",
   "execution_count": 13,
   "metadata": {
    "execution": {
     "iopub.execute_input": "2023-09-18T16:59:57.212323Z",
     "iopub.status.busy": "2023-09-18T16:59:57.211969Z",
     "iopub.status.idle": "2023-09-18T16:59:57.295640Z",
     "shell.execute_reply": "2023-09-18T16:59:57.294198Z",
     "shell.execute_reply.started": "2023-09-18T16:59:57.212296Z"
    }
   },
   "outputs": [],
   "source": [
    "# drop target and then reshape remaining data\n",
    "train_data_2d=train_data.drop('label', axis=1)\n",
    "train_data_2d=train_data_2d.values.reshape(-1,28,28,1)\n",
    "\n",
    "test_data_2d=test_data.values.reshape(-1,28,28,1)"
   ]
  },
  {
   "cell_type": "code",
   "execution_count": 14,
   "metadata": {
    "execution": {
     "iopub.execute_input": "2023-09-18T17:00:01.972236Z",
     "iopub.status.busy": "2023-09-18T17:00:01.971877Z",
     "iopub.status.idle": "2023-09-18T17:00:02.866483Z",
     "shell.execute_reply": "2023-09-18T17:00:02.865540Z",
     "shell.execute_reply.started": "2023-09-18T17:00:01.972204Z"
    }
   },
   "outputs": [
    {
     "data": {
      "image/png": "[encoded data removed]",
      "text/plain": [
       "<Figure size 100x100 with 1 Axes>"
      ]
     },
     "metadata": {},
     "output_type": "display_data"
    },
    {
     "data": {
      "image/png": "[encoded data removed]",
      "text/plain": [
       "<Figure size 100x100 with 1 Axes>"
      ]
     },
     "metadata": {},
     "output_type": "display_data"
    },
    {
     "data": {
      "image/png": "[encoded data removed]",
      "text/plain": [
       "<Figure size 100x100 with 1 Axes>"
      ]
     },
     "metadata": {},
     "output_type": "display_data"
    },
    {
     "data": {
      "image/png": "[encoded data removed]",
      "text/plain": [
       "<Figure size 100x100 with 1 Axes>"
      ]
     },
     "metadata": {},
     "output_type": "display_data"
    },
    {
     "data": {
      "image/png": "[encoded data removed]",
      "text/plain": [
       "<Figure size 100x100 with 1 Axes>"
      ]
     },
     "metadata": {},
     "output_type": "display_data"
    }
   ],
   "source": [
    "for i in range(5):\n",
    "    plt.figure(figsize=(1,1))\n",
    "    plt.imshow(train_data_2d[i])\n",
    "    plt.show()"
   ]
  },
  {
   "cell_type": "code",
   "execution_count": 15,
   "metadata": {
    "execution": {
     "iopub.execute_input": "2023-09-18T17:00:08.981481Z",
     "iopub.status.busy": "2023-09-18T17:00:08.981118Z",
     "iopub.status.idle": "2023-09-18T17:00:08.989487Z",
     "shell.execute_reply": "2023-09-18T17:00:08.988407Z",
     "shell.execute_reply.started": "2023-09-18T17:00:08.981452Z"
    }
   },
   "outputs": [
    {
     "data": {
      "text/plain": [
       "0    1\n",
       "1    0\n",
       "2    1\n",
       "3    4\n",
       "4    0\n",
       "Name: label, dtype: int64"
      ]
     },
     "execution_count": 15,
     "metadata": {},
     "output_type": "execute_result"
    }
   ],
   "source": [
    "train_data.label[:5]"
   ]
  },
  {
   "cell_type": "markdown",
   "metadata": {},
   "source": [
    "# Splitting Data"
   ]
  },
  {
   "cell_type": "code",
   "execution_count": 16,
   "metadata": {
    "execution": {
     "iopub.execute_input": "2023-09-18T17:00:19.904171Z",
     "iopub.status.busy": "2023-09-18T17:00:19.903468Z",
     "iopub.status.idle": "2023-09-18T17:00:19.908868Z",
     "shell.execute_reply": "2023-09-18T17:00:19.907676Z",
     "shell.execute_reply.started": "2023-09-18T17:00:19.904136Z"
    }
   },
   "outputs": [],
   "source": [
    "X = train_data_2d\n",
    "y = train_data.label\n",
    "\n",
    "X_test = test_data_2d"
   ]
  },
  {
   "cell_type": "code",
   "execution_count": 17,
   "metadata": {
    "execution": {
     "iopub.execute_input": "2023-09-18T17:00:21.713112Z",
     "iopub.status.busy": "2023-09-18T17:00:21.712748Z",
     "iopub.status.idle": "2023-09-18T17:00:21.885652Z",
     "shell.execute_reply": "2023-09-18T17:00:21.884190Z",
     "shell.execute_reply.started": "2023-09-18T17:00:21.713084Z"
    }
   },
   "outputs": [],
   "source": [
    "# Normalize the data\n",
    "X = X/255.0\n",
    "X_test = X_test/255.0"
   ]
  },
  {
   "cell_type": "code",
   "execution_count": 18,
   "metadata": {
    "execution": {
     "iopub.execute_input": "2023-09-18T17:00:23.330865Z",
     "iopub.status.busy": "2023-09-18T17:00:23.330268Z",
     "iopub.status.idle": "2023-09-18T17:00:23.720038Z",
     "shell.execute_reply": "2023-09-18T17:00:23.719039Z",
     "shell.execute_reply.started": "2023-09-18T17:00:23.330821Z"
    }
   },
   "outputs": [],
   "source": [
    "X_train, X_valid, y_train, y_valid = train_test_split(X, y, train_size=0.8, test_size=0.2, random_state=0)"
   ]
  },
  {
   "cell_type": "code",
   "execution_count": 19,
   "metadata": {
    "execution": {
     "iopub.execute_input": "2023-09-18T17:00:25.044579Z",
     "iopub.status.busy": "2023-09-18T17:00:25.044222Z",
     "iopub.status.idle": "2023-09-18T17:00:25.055177Z",
     "shell.execute_reply": "2023-09-18T17:00:25.054181Z",
     "shell.execute_reply.started": "2023-09-18T17:00:25.044550Z"
    }
   },
   "outputs": [
    {
     "data": {
      "text/plain": [
       "(33600, 28, 28, 1)"
      ]
     },
     "execution_count": 19,
     "metadata": {},
     "output_type": "execute_result"
    }
   ],
   "source": [
    "train_shape = X_train.shape\n",
    "train_shape"
   ]
  },
  {
   "cell_type": "code",
   "execution_count": 20,
   "metadata": {
    "execution": {
     "iopub.execute_input": "2023-09-18T17:00:26.497577Z",
     "iopub.status.busy": "2023-09-18T17:00:26.497210Z",
     "iopub.status.idle": "2023-09-18T17:00:26.504337Z",
     "shell.execute_reply": "2023-09-18T17:00:26.503359Z",
     "shell.execute_reply.started": "2023-09-18T17:00:26.497548Z"
    }
   },
   "outputs": [
    {
     "data": {
      "text/plain": [
       "(33600,)"
      ]
     },
     "execution_count": 20,
     "metadata": {},
     "output_type": "execute_result"
    }
   ],
   "source": [
    "y_train.shape"
   ]
  },
  {
   "cell_type": "markdown",
   "metadata": {},
   "source": [
    "# Modeling"
   ]
  },
  {
   "cell_type": "code",
   "execution_count": 21,
   "metadata": {
    "execution": {
     "iopub.execute_input": "2023-09-18T17:00:29.432030Z",
     "iopub.status.busy": "2023-09-18T17:00:29.431668Z",
     "iopub.status.idle": "2023-09-18T17:00:32.552629Z",
     "shell.execute_reply": "2023-09-18T17:00:32.551870Z",
     "shell.execute_reply.started": "2023-09-18T17:00:29.432002Z"
    }
   },
   "outputs": [
    {
     "name": "stdout",
     "output_type": "stream",
     "text": [
      "Model: \"sequential\"\n",
      "_________________________________________________________________\n",
      " Layer (type)                Output Shape              Param #   \n",
      "=================================================================\n",
      " conv2d (Conv2D)             (None, 28, 28, 32)        320       \n",
      "                                                                 \n",
      " max_pooling2d (MaxPooling2  (None, 14, 14, 32)        0         \n",
      " D)                                                              \n",
      "                                                                 \n",
      " conv2d_1 (Conv2D)           (None, 14, 14, 32)        9248      \n",
      "                                                                 \n",
      " max_pooling2d_1 (MaxPoolin  (None, 7, 7, 32)          0         \n",
      " g2D)                                                            \n",
      "                                                                 \n",
      " flatten (Flatten)           (None, 1568)              0         \n",
      "                                                                 \n",
      " dense (Dense)               (None, 64)                100416    \n",
      "                                                                 \n",
      " dense_1 (Dense)             (None, 10)                650       \n",
      "                                                                 \n",
      "=================================================================\n",
      "Total params: 110634 (432.16 KB)\n",
      "Trainable params: 110634 (432.16 KB)\n",
      "Non-trainable params: 0 (0.00 Byte)\n",
      "_________________________________________________________________\n"
     ]
    }
   ],
   "source": [
    "model = keras.Sequential([\n",
    "#     CNN base\n",
    "    layers.Conv2D(filters=32, kernel_size=(3,3), activation='relu', input_shape=(28,28,1), padding='same'),\n",
    "    layers.MaxPooling2D(2,2),\n",
    "    \n",
    "    layers.Conv2D(filters=32, kernel_size=(3,3), activation='relu', padding='same'),\n",
    "    layers.MaxPooling2D(2,2),\n",
    "#     dense head\n",
    "    layers.Flatten(),\n",
    "    layers.Dense(64, activation='relu'),\n",
    "    layers.Dense(10, activation='softmax'),\n",
    "])\n",
    "\n",
    "model.summary()"
   ]
  },
  {
   "cell_type": "code",
   "execution_count": 22,
   "metadata": {
    "execution": {
     "iopub.execute_input": "2023-09-18T17:00:59.246167Z",
     "iopub.status.busy": "2023-09-18T17:00:59.245502Z",
     "iopub.status.idle": "2023-09-18T17:00:59.269476Z",
     "shell.execute_reply": "2023-09-18T17:00:59.268525Z",
     "shell.execute_reply.started": "2023-09-18T17:00:59.246136Z"
    }
   },
   "outputs": [],
   "source": [
    "model.compile(\n",
    "    optimizer='adam',\n",
    "    loss='sparse_categorical_crossentropy',\n",
    "    metrics=['accuracy'],\n",
    ")"
   ]
  },
  {
   "cell_type": "code",
   "execution_count": 23,
   "metadata": {
    "execution": {
     "iopub.execute_input": "2023-09-18T17:01:01.558736Z",
     "iopub.status.busy": "2023-09-18T17:01:01.558345Z",
     "iopub.status.idle": "2023-09-18T17:02:12.463751Z",
     "shell.execute_reply": "2023-09-18T17:02:12.462809Z",
     "shell.execute_reply.started": "2023-09-18T17:01:01.558706Z"
    }
   },
   "outputs": [
    {
     "name": "stdout",
     "output_type": "stream",
     "text": [
      "Epoch 1/15\n",
      "1050/1050 [==============================] - 23s 21ms/step - loss: 0.2137 - accuracy: 0.9341 - val_loss: 0.0679 - val_accuracy: 0.9792\n",
      "Epoch 2/15\n",
      "1050/1050 [==============================] - 24s 23ms/step - loss: 0.0618 - accuracy: 0.9801 - val_loss: 0.0530 - val_accuracy: 0.9830\n",
      "Epoch 3/15\n",
      "1050/1050 [==============================] - 24s 23ms/step - loss: 0.0435 - accuracy: 0.9860 - val_loss: 0.0489 - val_accuracy: 0.9861\n",
      "Epoch 4/15\n",
      "1050/1050 [==============================] - 23s 22ms/step - loss: 0.0303 - accuracy: 0.9897 - val_loss: 0.0550 - val_accuracy: 0.9838\n",
      "Epoch 5/15\n",
      "1050/1050 [==============================] - 24s 22ms/step - loss: 0.0246 - accuracy: 0.9920 - val_loss: 0.0444 - val_accuracy: 0.9869\n",
      "Epoch 6/15\n",
      "1050/1050 [==============================] - 24s 23ms/step - loss: 0.0194 - accuracy: 0.9935 - val_loss: 0.0481 - val_accuracy: 0.9865\n",
      "Epoch 7/15\n",
      "1050/1050 [==============================] - 23s 22ms/step - loss: 0.0156 - accuracy: 0.9947 - val_loss: 0.0472 - val_accuracy: 0.9877\n",
      "Epoch 8/15\n",
      "1050/1050 [==============================] - 24s 23ms/step - loss: 0.0135 - accuracy: 0.9955 - val_loss: 0.0574 - val_accuracy: 0.9869\n",
      "Epoch 9/15\n",
      "1050/1050 [==============================] - 16s 15ms/step - loss: 0.0112 - accuracy: 0.9958 - val_loss: 0.0491 - val_accuracy: 0.9886\n",
      "Epoch 10/15\n",
      "1050/1050 [==============================] - 22s 21ms/step - loss: 0.0096 - accuracy: 0.9968 - val_loss: 0.0570 - val_accuracy: 0.9879\n",
      "Epoch 11/15\n",
      "1050/1050 [==============================] - 20s 19ms/step - loss: 0.0072 - accuracy: 0.9977 - val_loss: 0.0618 - val_accuracy: 0.9856\n",
      "Epoch 12/15\n",
      "1050/1050 [==============================] - 19s 18ms/step - loss: 0.0088 - accuracy: 0.9972 - val_loss: 0.0556 - val_accuracy: 0.9879\n",
      "Epoch 13/15\n",
      "1050/1050 [==============================] - 25s 24ms/step - loss: 0.0057 - accuracy: 0.9982 - val_loss: 0.0922 - val_accuracy: 0.9821\n",
      "Epoch 14/15\n",
      "1050/1050 [==============================] - 23s 22ms/step - loss: 0.0068 - accuracy: 0.9977 - val_loss: 0.0691 - val_accuracy: 0.9865\n",
      "Epoch 15/15\n",
      "1050/1050 [==============================] - 22s 21ms/step - loss: 0.0052 - accuracy: 0.9981 - val_loss: 0.0575 - val_accuracy: 0.9886\n"
     ]
    }
   ],
   "source": [
    "history = model.fit(\n",
    "    X_train, y_train,\n",
    "    validation_data=(X_valid, y_valid),\n",
    "#     callbacks=[early_stopping],\n",
    "    epochs=15,\n",
    ")"
   ]
  },
  {
   "cell_type": "code",
   "execution_count": 24,
   "metadata": {
    "execution": {
     "iopub.execute_input": "2023-09-18T17:02:50.735465Z",
     "iopub.status.busy": "2023-09-18T17:02:50.735097Z",
     "iopub.status.idle": "2023-09-18T17:02:51.330949Z",
     "shell.execute_reply": "2023-09-18T17:02:51.329861Z",
     "shell.execute_reply.started": "2023-09-18T17:02:50.735436Z"
    }
   },
   "outputs": [
    {
     "name": "stdout",
     "output_type": "stream",
     "text": [
      "Best Validation Loss: 0.0444\n",
      "Best Validation Accuracy: 0.9886\n"
     ]
    },
    {
     "data": {
      "image/png": "[encoded data removed]",
      "text/plain": [
       "<Figure size 640x480 with 1 Axes>"
      ]
     },
     "metadata": {},
     "output_type": "display_data"
    },
    {
     "data": {
      "image/png": "[encoded data removed]",
      "text/plain": [
       "<Figure size 640x480 with 1 Axes>"
      ]
     },
     "metadata": {},
     "output_type": "display_data"
    }
   ],
   "source": [
    "history_df = pd.DataFrame(history.history)\n",
    "# Start the plot at epoch 5\n",
    "history_df.loc[:,['loss', 'val_loss']].plot()\n",
    "history_df.loc[:, ['accuracy', 'val_accuracy']].plot()\n",
    "\n",
    "print((\"Best Validation Loss: {:0.4f}\" +\\\n",
    "      \"\\nBest Validation Accuracy: {:0.4f}\")\\\n",
    "      .format(history_df['val_loss'].min(), \n",
    "              history_df['val_accuracy'].max()))"
   ]
  },
  {
   "cell_type": "markdown",
   "metadata": {},
   "source": [
    "# Confusion Matrix"
   ]
  },
  {
   "cell_type": "code",
   "execution_count": 25,
   "metadata": {
    "execution": {
     "iopub.execute_input": "2023-09-18T17:03:08.007066Z",
     "iopub.status.busy": "2023-09-18T17:03:08.006692Z",
     "iopub.status.idle": "2023-09-18T17:03:08.869355Z",
     "shell.execute_reply": "2023-09-18T17:03:08.867569Z",
     "shell.execute_reply.started": "2023-09-18T17:03:08.007036Z"
    }
   },
   "outputs": [
    {
     "name": "stdout",
     "output_type": "stream",
     "text": [
      "263/263 [==============================] - 2s 7ms/step\n"
     ]
    },
    {
     "data": {
      "text/plain": [
       "<tf.Tensor: shape=(10, 10), dtype=int32, numpy=\n",
       "array([[809,   0,   1,   0,   0,   0,   3,   0,   0,   0],\n",
       "       [  0, 958,   1,   1,   0,   0,   1,   0,   0,   0],\n",
       "       [  0,   1, 857,   0,   0,   0,   0,   2,   0,   0],\n",
       "       [  0,   0,   3, 853,   1,   1,   0,   3,   2,   0],\n",
       "       [  1,   4,   0,   0, 816,   0,   1,   2,   1,   2],\n",
       "       [  1,   0,   0,   4,   0, 743,   4,   0,   4,   0],\n",
       "       [  0,   0,   0,   0,   2,   0, 838,   0,   1,   0],\n",
       "       [  0,   2,   6,   1,   0,   1,   0, 888,   0,   1],\n",
       "       [  0,   3,   1,   0,   0,   0,   3,   0, 760,   1],\n",
       "       [  7,   1,   0,   3,   8,   4,   0,   3,   4, 782]])>"
      ]
     },
     "execution_count": 25,
     "metadata": {},
     "output_type": "execute_result"
    }
   ],
   "source": [
    "pred = model.predict(X_valid)\n",
    "pred_valid = pd.DataFrame([np.argmax(i) for i in pred])\n",
    "cm = tf.math.confusion_matrix(labels=y_valid,predictions=pred_valid)\n",
    "cm"
   ]
  },
  {
   "cell_type": "code",
   "execution_count": 26,
   "metadata": {
    "execution": {
     "iopub.execute_input": "2023-09-18T17:03:13.749350Z",
     "iopub.status.busy": "2023-09-18T17:03:13.748466Z",
     "iopub.status.idle": "2023-09-18T17:03:14.322192Z",
     "shell.execute_reply": "2023-09-18T17:03:14.321303Z",
     "shell.execute_reply.started": "2023-09-18T17:03:13.749305Z"
    }
   },
   "outputs": [
    {
     "data": {
      "text/plain": [
       "<Axes: >"
      ]
     },
     "execution_count": 26,
     "metadata": {},
     "output_type": "execute_result"
    },
    {
     "data": {
      "image/png": "[encoded data removed]",
      "text/plain": [
       "<Figure size 640x480 with 2 Axes>"
      ]
     },
     "metadata": {},
     "output_type": "display_data"
    }
   ],
   "source": [
    "plt.figure()\n",
    "sns.heatmap(cm, annot=True,fmt='d')"
   ]
  },
  {
   "cell_type": "markdown",
   "metadata": {},
   "source": [
    "# Predictions\n",
    "predictions on test data"
   ]
  },
  {
   "cell_type": "code",
   "execution_count": 27,
   "metadata": {
    "execution": {
     "iopub.execute_input": "2023-09-18T17:05:22.731633Z",
     "iopub.status.busy": "2023-09-18T17:05:22.731225Z",
     "iopub.status.idle": "2023-09-18T17:05:25.230851Z",
     "shell.execute_reply": "2023-09-18T17:05:25.229835Z",
     "shell.execute_reply.started": "2023-09-18T17:05:22.731583Z"
    }
   },
   "outputs": [
    {
     "name": "stdout",
     "output_type": "stream",
     "text": [
      "875/875 [==============================] - 6s 7ms/step\n"
     ]
    }
   ],
   "source": [
    "preds = model.predict(X_test)\n",
    "predictions = [np.argmax(i) for i in preds]\n",
    "predictions = pd.Series(predictions,name=\"Label\")"
   ]
  },
  {
   "cell_type": "code",
   "execution_count": 28,
   "metadata": {
    "execution": {
     "iopub.execute_input": "2023-09-18T17:05:27.147027Z",
     "iopub.status.busy": "2023-09-18T17:05:27.146288Z",
     "iopub.status.idle": "2023-09-18T17:05:27.210000Z",
     "shell.execute_reply": "2023-09-18T17:05:27.208998Z",
     "shell.execute_reply.started": "2023-09-18T17:05:27.146996Z"
    }
   },
   "outputs": [],
   "source": [
    "output = pd.concat([pd.Series(range(1,28001),name = \"ImageId\"),predictions],axis = 1)\n",
    "\n",
    "output.to_csv(\"submission.csv\",index=False)"
   ]
  }
 ],
 "metadata": {
  "kernelspec": {
   "display_name": "Python 3 (ipykernel)",
   "language": "python",
   "name": "python3"
  },
  "language_info": {
   "codemirror_mode": {
    "name": "ipython",
    "version": 3
   },
   "file_extension": ".py",
   "mimetype": "text/x-python",
   "name": "python",
   "nbconvert_exporter": "python",
   "pygments_lexer": "ipython3",
   "version": "3.11.3"
  }
 },
 "nbformat": 4,
 "nbformat_minor": 4
}
